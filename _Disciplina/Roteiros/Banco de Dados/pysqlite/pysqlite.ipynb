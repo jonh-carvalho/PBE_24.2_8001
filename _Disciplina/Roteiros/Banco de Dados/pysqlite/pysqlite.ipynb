{
 "cells": [
  {
   "cell_type": "markdown",
   "metadata": {},
   "source": [
    "## Aprendendo SQL com CRUD no SQLite usando VS Code e Jupyter Notebook\n",
    "\n",
    "### O que é CRUD?\n",
    "\n",
    "CRUD é um acrônimo que significa **Create**, **Read**, **Update** e **Delete**. São as quatro operações básicas que você pode realizar em um banco de dados:\n",
    "\n",
    "  * **Create:** Criar novos registros.\n",
    "  * **Read:** Ler dados existentes.\n",
    "  * **Update:** Atualizar dados existentes.\n",
    "  * **Delete:** Deletar dados.\n",
    "\n",
    "### Configurando o Ambiente\n",
    "\n",
    "**1. Instalar o VS Code:**\n",
    "\n",
    "  * Se você ainda não tiver, baixe e instale o VS Code do site oficial: [https://code.visualstudio.com/](https://www.google.com/url?sa=E&source=gmail&q=https://code.visualstudio.com/)\n",
    "\n",
    "**2. Instalar a extensão Python:**\n",
    "\n",
    "  * No VS Code, vá em **Extensões** (ícone da engrenagem na barra lateral esquerda) e procure por \"Python\". Instale a extensão oficial da Microsoft.\n",
    "\n",
    "**3. Criar um novo notebook Jupyter:**\n",
    "\n",
    "  * Abra o VS Code e crie um novo arquivo Python (`.py`).\n",
    "  * Na primeira linha, adicione:\n",
    "  \n",
    "    ```python\n",
    "    %matplotlib inline\n",
    "    ```\n",
    "    Isso configura o notebook para exibir gráficos inline.\n",
    "\n",
    "  * Para transformar o arquivo em um notebook, pressione **Ctrl+Shift+P** (ou **Cmd+Shift+P** no macOS) e digite \"Convert to Jupyter Notebook\".\n",
    "\n",
    "**4. Instalar a biblioteca `sqlite3`:**\n",
    "\n",
    "  * Abra um terminal integrado no VS Code (**Ctrl+\\`**) e execute o seguinte comando:\n",
    "  \n",
    "    ```bash\n",
    "    pip install sqlite3\n",
    "    ```\n",
    "\n",
    "**Recursos Úteis:**\n",
    "\n",
    "  * **Documentação do SQLite:** [https://www.sqlite.org/docs.html](https://www.google.com/url?sa=E&source=gmail&q=https://www.sqlite.org/docs.html)\n",
    "  * **Documentação do Python:** [https://docs.python.org/3/](https://www.google.com/url?sa=E&source=gmail&q=https://docs.python.org/3/)"
   ]
  },
  {
   "cell_type": "code",
   "execution_count": 1,
   "metadata": {},
   "outputs": [],
   "source": [
    "# connect_db.py\n",
    "# 01_create_db.py\n",
    "import sqlite3\n",
    "\n",
    "conn = sqlite3.connect('clientes.db')\n",
    "conn.close()"
   ]
  },
  {
   "cell_type": "code",
   "execution_count": 3,
   "metadata": {},
   "outputs": [
    {
     "name": "stdout",
     "output_type": "stream",
     "text": [
      "Tabela criada com sucesso.\n"
     ]
    }
   ],
   "source": [
    "# 02_create_schema.py\n",
    "import sqlite3\n",
    "\n",
    "# conectando...\n",
    "conn = sqlite3.connect('clientes.db')\n",
    "# definindo um cursor\n",
    "cursor = conn.cursor()\n",
    "\n",
    "# criando a tabela (schema)\n",
    "cursor.execute(\"\"\"\n",
    "CREATE TABLE clientesss (\n",
    "        id INTEGER NOT NULL PRIMARY KEY AUTOINCREMENT,\n",
    "        nome TEXT NOT NULL,\n",
    "        idade INTEGER,\n",
    "        cpf     VARCHAR(11) NOT NULL,\n",
    "        email TEXT NOT NULL,\n",
    "        fone TEXT,\n",
    "        cidade TEXT,\n",
    "        uf VARCHAR(2) NOT NULL,\n",
    "        criado_em DATE NOT NULL\n",
    ");\n",
    "\"\"\")\n",
    "\n",
    "print('Tabela criada com sucesso.')\n",
    "# desconectando...\n",
    "conn.close()"
   ]
  },
  {
   "cell_type": "code",
   "execution_count": 6,
   "metadata": {},
   "outputs": [
    {
     "name": "stdout",
     "output_type": "stream",
     "text": [
      "Dados inseridos com sucesso.\n"
     ]
    }
   ],
   "source": [
    "# 03_create_data_sql.py\n",
    "import sqlite3\n",
    "\n",
    "conn = sqlite3.connect('clientes.db')\n",
    "cursor = conn.cursor()\n",
    "\n",
    "# inserindo dados na tabela\n",
    "cursor.execute(\"\"\"\n",
    "INSERT INTO clientesss (nome, idade, cpf, email, fone, cidade, uf, criado_em)\n",
    "VALUES ('Regis', 35, '00000000000', 'regis@email.com', '11-98765-4321', 'Sao Paulo', 'SP', '2014-06-08')\n",
    "\"\"\")\n",
    "\n",
    "cursor.execute(\"\"\"\n",
    "INSERT INTO clientesss (nome, idade, cpf, email, fone, cidade, uf, criado_em)\n",
    "VALUES ('Aloisio', 87, '11111111111', 'aloisio@email.com', '98765-4322', 'Porto Alegre', 'RS', '2014-06-09')\n",
    "\"\"\")\n",
    "\n",
    "cursor.execute(\"\"\"\n",
    "INSERT INTO clientesss (nome, idade, cpf, email, fone, cidade, uf, criado_em)\n",
    "VALUES ('Bruna', 21, '22222222222', 'bruna@email.com', '21-98765-4323', 'Rio de Janeiro', 'RJ', '2014-06-09')\n",
    "\"\"\")\n",
    "\n",
    "cursor.execute(\"\"\"\n",
    "INSERT INTO clientesss (nome, idade, cpf, email, fone, cidade, uf, criado_em)\n",
    "VALUES ('Matheus', 19, '33333333333', 'matheus@email.com', '11-98765-4324', 'Campinas', 'SP', '2014-06-08')\n",
    "\"\"\")\n",
    "\n",
    "# gravando no bd\n",
    "conn.commit()\n",
    "\n",
    "print('Dados inseridos com sucesso.')\n",
    "\n",
    "conn.close()"
   ]
  },
  {
   "cell_type": "code",
   "execution_count": 7,
   "metadata": {},
   "outputs": [
    {
     "name": "stdout",
     "output_type": "stream",
     "text": [
      "(1, 'Regis', 35, '00000000000', 'regis@email.com', '11-98765-4321', 'Sao Paulo', 'SP', '2014-06-08')\n",
      "(2, 'Aloisio', 87, '11111111111', 'aloisio@email.com', '98765-4322', 'Porto Alegre', 'RS', '2014-06-09')\n",
      "(3, 'Bruna', 21, '22222222222', 'bruna@email.com', '21-98765-4323', 'Rio de Janeiro', 'RJ', '2014-06-09')\n",
      "(4, 'Matheus', 19, '33333333333', 'matheus@email.com', '11-98765-4324', 'Campinas', 'SP', '2014-06-08')\n",
      "(5, 'Aloisio', 87, '11111111111', 'aloisio@email.com', '98765-4322', 'Porto Alegre', 'RS', '2014-06-09')\n",
      "(6, 'Bruna', 21, '22222222222', 'bruna@email.com', '21-98765-4323', 'Rio de Janeiro', 'RJ', '2014-06-09')\n",
      "(7, 'Matheus', 19, '33333333333', 'matheus@email.com', '11-98765-4324', 'Campinas', 'SP', '2014-06-08')\n"
     ]
    }
   ],
   "source": [
    "# 04_read_data.py\n",
    "import sqlite3\n",
    "\n",
    "conn = sqlite3.connect('clientes.db')\n",
    "cursor = conn.cursor()\n",
    "\n",
    "# lendo os dados\n",
    "cursor.execute(\"\"\"\n",
    "SELECT * FROM clientes;\n",
    "\"\"\")\n",
    "\n",
    "for linha in cursor.fetchall():\n",
    "    print(linha)\n",
    "\n",
    "conn.close()"
   ]
  },
  {
   "cell_type": "code",
   "execution_count": 8,
   "metadata": {},
   "outputs": [
    {
     "name": "stdout",
     "output_type": "stream",
     "text": [
      "Dados atualizados com sucesso.\n"
     ]
    }
   ],
   "source": [
    "# 05_update_data.py\n",
    "import sqlite3\n",
    "\n",
    "conn = sqlite3.connect('clientes.db')\n",
    "cursor = conn.cursor()\n",
    "\n",
    "id_cliente = 1\n",
    "novo_fone = '11-1000-2014'\n",
    "novo_criado_em = '2014-06-11'\n",
    "\n",
    "# alterando os dados da tabela\n",
    "cursor.execute(\"\"\"\n",
    "UPDATE clientesss\n",
    "SET fone = ?, criado_em = ?\n",
    "WHERE id = ?\n",
    "\"\"\", (novo_fone, novo_criado_em, id_cliente))\n",
    "\n",
    "conn.commit()\n",
    "\n",
    "print('Dados atualizados com sucesso.')\n",
    "\n",
    "conn.close()"
   ]
  },
  {
   "cell_type": "code",
   "execution_count": 10,
   "metadata": {},
   "outputs": [
    {
     "name": "stdout",
     "output_type": "stream",
     "text": [
      "Registro excluido com sucesso.\n"
     ]
    }
   ],
   "source": [
    "# 07_delete_data.py\n",
    "import sqlite3\n",
    "\n",
    "conn = sqlite3.connect('clientes.db')\n",
    "cursor = conn.cursor()\n",
    "\n",
    "id_cliente = 3\n",
    "\n",
    "# excluindo um registro da tabela\n",
    "cursor.execute(\"\"\"\n",
    "DELETE FROM clientesss\n",
    "WHERE id = ?\n",
    "\"\"\", (id_cliente,))\n",
    "\n",
    "conn.commit()\n",
    "\n",
    "print('Registro excluido com sucesso.')\n",
    "\n",
    "conn.close()"
   ]
  },
  {
   "cell_type": "code",
   "execution_count": 11,
   "metadata": {},
   "outputs": [
    {
     "name": "stdout",
     "output_type": "stream",
     "text": [
      "Novo campo adicionado com sucesso.\n"
     ]
    }
   ],
   "source": [
    "# 09_alter_table.py\n",
    "import sqlite3\n",
    "\n",
    "conn = sqlite3.connect('clientes.db')\n",
    "cursor = conn.cursor()\n",
    "\n",
    "# adicionando uma nova coluna na tabela clientes\n",
    "cursor.execute(\"\"\"\n",
    "ALTER TABLE clientesss\n",
    "ADD COLUMN bloqueado BOOLEAN;\n",
    "\"\"\")\n",
    "\n",
    "conn.commit()\n",
    "\n",
    "print('Novo campo adicionado com sucesso.')\n",
    "\n",
    "conn.close()"
   ]
  },
  {
   "cell_type": "code",
   "execution_count": 12,
   "metadata": {},
   "outputs": [
    {
     "name": "stdout",
     "output_type": "stream",
     "text": [
      "Colunas: ['id', 'nome', 'idade', 'cpf', 'email', 'fone', 'cidade', 'uf', 'criado_em', 'bloqueado']\n",
      "Tabelas:\n",
      "clientes\n",
      "clientess\n",
      "clientesss\n",
      "sqlite_sequence\n",
      "Schema:\n",
      "CREATE TABLE clientesss (\n",
      "        id INTEGER NOT NULL PRIMARY KEY AUTOINCREMENT,\n",
      "        nome TEXT NOT NULL,\n",
      "        idade INTEGER,\n",
      "        cpf     VARCHAR(11) NOT NULL,\n",
      "        email TEXT NOT NULL,\n",
      "        fone TEXT,\n",
      "        cidade TEXT,\n",
      "        uf VARCHAR(2) NOT NULL,\n",
      "        criado_em DATE NOT NULL\n",
      ", bloqueado BOOLEAN)\n"
     ]
    }
   ],
   "source": [
    "# 10_view_table_info.py\n",
    "import sqlite3\n",
    "\n",
    "conn = sqlite3.connect('clientes.db')\n",
    "cursor = conn.cursor()\n",
    "nome_tabela = 'clientesss'\n",
    "\n",
    "# obtendo informações da tabela\n",
    "cursor.execute('PRAGMA table_info({})'.format(nome_tabela))\n",
    "\n",
    "colunas = [tupla[1] for tupla in cursor.fetchall()]\n",
    "print('Colunas:', colunas)\n",
    "# ou\n",
    "# for coluna in colunas:\n",
    "#    print(coluna)\n",
    "\n",
    "# listando as tabelas do bd\n",
    "cursor.execute(\"\"\"\n",
    "SELECT name FROM sqlite_master WHERE type='table' ORDER BY name\n",
    "\"\"\")\n",
    "\n",
    "print('Tabelas:')\n",
    "for tabela in cursor.fetchall():\n",
    "    print(\"%s\" % (tabela))\n",
    "\n",
    "# obtendo o schema da tabela\n",
    "cursor.execute(\"\"\"\n",
    "SELECT sql FROM sqlite_master WHERE type='table' AND name=?\n",
    "\"\"\", (nome_tabela,))\n",
    "\n",
    "print('Schema:')\n",
    "for schema in cursor.fetchall():\n",
    "    print(\"%s\" % (schema))\n",
    "\n",
    "conn.close()"
   ]
  }
 ],
 "metadata": {
  "kernelspec": {
   "display_name": ".venv",
   "language": "python",
   "name": "python3"
  },
  "language_info": {
   "codemirror_mode": {
    "name": "ipython",
    "version": 3
   },
   "file_extension": ".py",
   "mimetype": "text/x-python",
   "name": "python",
   "nbconvert_exporter": "python",
   "pygments_lexer": "ipython3",
   "version": "3.10.7"
  }
 },
 "nbformat": 4,
 "nbformat_minor": 2
}
