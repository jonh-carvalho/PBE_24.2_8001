{
 "cells": [
  {
   "cell_type": "markdown",
   "metadata": {},
   "source": [
    "# Sqlite Sql\n",
    "\n",
    "Começando por carregar o sql no notebook\n"
   ]
  },
  {
   "cell_type": "code",
   "execution_count": 2,
   "metadata": {
    "vscode": {
     "languageId": "sql"
    }
   },
   "outputs": [
    {
     "name": "stdout",
     "output_type": "stream",
     "text": [
      "Collecting ipython-sql\n",
      "  Using cached ipython_sql-0.5.0-py3-none-any.whl.metadata (17 kB)\n",
      "Collecting prettytable (from ipython-sql)\n",
      "  Downloading prettytable-3.11.0-py3-none-any.whl.metadata (30 kB)\n",
      "Requirement already satisfied: ipython in f:\\apps\\source\\repos\\24.2\\pbe_24.2_8001\\.venv\\lib\\site-packages (from ipython-sql) (8.28.0)\n",
      "Collecting sqlalchemy>=2.0 (from ipython-sql)\n",
      "  Downloading SQLAlchemy-2.0.36-cp310-cp310-win_amd64.whl.metadata (9.9 kB)\n",
      "Collecting sqlparse (from ipython-sql)\n",
      "  Using cached sqlparse-0.5.1-py3-none-any.whl.metadata (3.9 kB)\n",
      "Requirement already satisfied: six in f:\\apps\\source\\repos\\24.2\\pbe_24.2_8001\\.venv\\lib\\site-packages (from ipython-sql) (1.16.0)\n",
      "Collecting ipython-genutils (from ipython-sql)\n",
      "  Using cached ipython_genutils-0.2.0-py2.py3-none-any.whl.metadata (755 bytes)\n",
      "Requirement already satisfied: typing-extensions>=4.6.0 in f:\\apps\\source\\repos\\24.2\\pbe_24.2_8001\\.venv\\lib\\site-packages (from sqlalchemy>=2.0->ipython-sql) (4.12.2)\n",
      "Collecting greenlet!=0.4.17 (from sqlalchemy>=2.0->ipython-sql)\n",
      "  Downloading greenlet-3.1.1-cp310-cp310-win_amd64.whl.metadata (3.9 kB)\n",
      "Requirement already satisfied: decorator in f:\\apps\\source\\repos\\24.2\\pbe_24.2_8001\\.venv\\lib\\site-packages (from ipython->ipython-sql) (5.1.1)\n",
      "Requirement already satisfied: jedi>=0.16 in f:\\apps\\source\\repos\\24.2\\pbe_24.2_8001\\.venv\\lib\\site-packages (from ipython->ipython-sql) (0.19.1)\n",
      "Requirement already satisfied: matplotlib-inline in f:\\apps\\source\\repos\\24.2\\pbe_24.2_8001\\.venv\\lib\\site-packages (from ipython->ipython-sql) (0.1.7)\n",
      "Requirement already satisfied: prompt-toolkit<3.1.0,>=3.0.41 in f:\\apps\\source\\repos\\24.2\\pbe_24.2_8001\\.venv\\lib\\site-packages (from ipython->ipython-sql) (3.0.48)\n",
      "Requirement already satisfied: pygments>=2.4.0 in f:\\apps\\source\\repos\\24.2\\pbe_24.2_8001\\.venv\\lib\\site-packages (from ipython->ipython-sql) (2.18.0)\n",
      "Requirement already satisfied: stack-data in f:\\apps\\source\\repos\\24.2\\pbe_24.2_8001\\.venv\\lib\\site-packages (from ipython->ipython-sql) (0.6.3)\n",
      "Requirement already satisfied: traitlets>=5.13.0 in f:\\apps\\source\\repos\\24.2\\pbe_24.2_8001\\.venv\\lib\\site-packages (from ipython->ipython-sql) (5.14.3)\n",
      "Requirement already satisfied: exceptiongroup in f:\\apps\\source\\repos\\24.2\\pbe_24.2_8001\\.venv\\lib\\site-packages (from ipython->ipython-sql) (1.2.2)\n",
      "Requirement already satisfied: colorama in f:\\apps\\source\\repos\\24.2\\pbe_24.2_8001\\.venv\\lib\\site-packages (from ipython->ipython-sql) (0.4.6)\n",
      "Requirement already satisfied: wcwidth in f:\\apps\\source\\repos\\24.2\\pbe_24.2_8001\\.venv\\lib\\site-packages (from prettytable->ipython-sql) (0.2.13)\n",
      "Requirement already satisfied: parso<0.9.0,>=0.8.3 in f:\\apps\\source\\repos\\24.2\\pbe_24.2_8001\\.venv\\lib\\site-packages (from jedi>=0.16->ipython->ipython-sql) (0.8.4)\n",
      "Requirement already satisfied: executing>=1.2.0 in f:\\apps\\source\\repos\\24.2\\pbe_24.2_8001\\.venv\\lib\\site-packages (from stack-data->ipython->ipython-sql) (2.1.0)\n",
      "Requirement already satisfied: asttokens>=2.1.0 in f:\\apps\\source\\repos\\24.2\\pbe_24.2_8001\\.venv\\lib\\site-packages (from stack-data->ipython->ipython-sql) (2.4.1)\n",
      "Requirement already satisfied: pure-eval in f:\\apps\\source\\repos\\24.2\\pbe_24.2_8001\\.venv\\lib\\site-packages (from stack-data->ipython->ipython-sql) (0.2.3)\n",
      "Using cached ipython_sql-0.5.0-py3-none-any.whl (20 kB)\n",
      "Downloading SQLAlchemy-2.0.36-cp310-cp310-win_amd64.whl (2.1 MB)\n",
      "   ---------------------------------------- 0.0/2.1 MB ? eta -:--:--\n",
      "   ---------------------------------------- 2.1/2.1 MB 38.9 MB/s eta 0:00:00\n",
      "Using cached ipython_genutils-0.2.0-py2.py3-none-any.whl (26 kB)\n",
      "Downloading prettytable-3.11.0-py3-none-any.whl (28 kB)\n",
      "Using cached sqlparse-0.5.1-py3-none-any.whl (44 kB)\n",
      "Downloading greenlet-3.1.1-cp310-cp310-win_amd64.whl (298 kB)\n",
      "Installing collected packages: ipython-genutils, sqlparse, prettytable, greenlet, sqlalchemy, ipython-sql\n",
      "Successfully installed greenlet-3.1.1 ipython-genutils-0.2.0 ipython-sql-0.5.0 prettytable-3.11.0 sqlalchemy-2.0.36 sqlparse-0.5.1\n"
     ]
    }
   ],
   "source": [
    "!pip install ipython-sql\n",
    "%load_ext sql"
   ]
  },
  {
   "cell_type": "code",
   "execution_count": 3,
   "metadata": {
    "vscode": {
     "languageId": "sql"
    }
   },
   "outputs": [],
   "source": [
    "%sql sqlite:///contatos.db"
   ]
  },
  {
   "cell_type": "code",
   "execution_count": 4,
   "metadata": {
    "vscode": {
     "languageId": "sql"
    }
   },
   "outputs": [
    {
     "name": "stdout",
     "output_type": "stream",
     "text": [
      " * sqlite:///contatos.db\n",
      "Done.\n"
     ]
    },
    {
     "data": {
      "text/plain": [
       "[]"
      ]
     },
     "execution_count": 4,
     "metadata": {},
     "output_type": "execute_result"
    }
   ],
   "source": [
    "%%sql\n",
    "\n",
    "CREATE TABLE CLIENTES (\n",
    "    CLIENTE_ID INTEGER PRIMARY KEY,\n",
    "    NOME TEXT NOT NULL,\n",
    "    EMAIL TEXT NOT NULL UNIQUE,\n",
    "    TELEFONE TEXT NOT NULL UNIQUE\n",
    ");"
   ]
  },
  {
   "cell_type": "code",
   "execution_count": 5,
   "metadata": {
    "vscode": {
     "languageId": "sql"
    }
   },
   "outputs": [
    {
     "name": "stdout",
     "output_type": "stream",
     "text": [
      " * sqlite:///contatos.db\n",
      "4 rows affected.\n"
     ]
    },
    {
     "data": {
      "text/plain": [
       "[]"
      ]
     },
     "execution_count": 5,
     "metadata": {},
     "output_type": "execute_result"
    }
   ],
   "source": [
    "%%sql\n",
    "\n",
    "INSERT INTO CLIENTES (NOME, EMAIL, TELEFONE) \n",
    "VALUES\n",
    "    ('Leonardo' , 'leonardo@gmail.com', '9999-9999' ),\n",
    "    ('Rafael' , 'rafael@gmail.com', '9889-8998' ),\n",
    "    ('Michelangelo' , 'michelangelo@gmail.com', '9997-7999' ),\n",
    "    ('Donatello' , 'donatello@gmail.com', '9777-7779' );"
   ]
  },
  {
   "cell_type": "code",
   "execution_count": 7,
   "metadata": {
    "vscode": {
     "languageId": "sql"
    }
   },
   "outputs": [
    {
     "name": "stdout",
     "output_type": "stream",
     "text": [
      " * sqlite:///contatos.db\n",
      "Done.\n"
     ]
    },
    {
     "data": {
      "text/html": [
       "<table>\n",
       "    <thead>\n",
       "        <tr>\n",
       "            <th>CLIENTE_ID</th>\n",
       "            <th>NOME</th>\n",
       "            <th>EMAIL</th>\n",
       "            <th>TELEFONE</th>\n",
       "        </tr>\n",
       "    </thead>\n",
       "    <tbody>\n",
       "        <tr>\n",
       "            <td>1</td>\n",
       "            <td>Leonardo</td>\n",
       "            <td>leonardo@gmail.com</td>\n",
       "            <td>9999-9999</td>\n",
       "        </tr>\n",
       "        <tr>\n",
       "            <td>2</td>\n",
       "            <td>Rafael</td>\n",
       "            <td>rafael@gmail.com</td>\n",
       "            <td>9889-8998</td>\n",
       "        </tr>\n",
       "        <tr>\n",
       "            <td>3</td>\n",
       "            <td>Michelangelo</td>\n",
       "            <td>michelangelo@gmail.com</td>\n",
       "            <td>9997-7999</td>\n",
       "        </tr>\n",
       "        <tr>\n",
       "            <td>4</td>\n",
       "            <td>Donatello</td>\n",
       "            <td>donatello@gmail.com</td>\n",
       "            <td>9777-7779</td>\n",
       "        </tr>\n",
       "    </tbody>\n",
       "</table>"
      ],
      "text/plain": [
       "[(1, 'Leonardo', 'leonardo@gmail.com', '9999-9999'),\n",
       " (2, 'Rafael', 'rafael@gmail.com', '9889-8998'),\n",
       " (3, 'Michelangelo', 'michelangelo@gmail.com', '9997-7999'),\n",
       " (4, 'Donatello', 'donatello@gmail.com', '9777-7779')]"
      ]
     },
     "execution_count": 7,
     "metadata": {},
     "output_type": "execute_result"
    }
   ],
   "source": [
    "%%sql\n",
    "\n",
    "SELECT * FROM CLIENTES"
   ]
  }
 ],
 "metadata": {
  "kernelspec": {
   "display_name": ".venv",
   "language": "python",
   "name": "python3"
  },
  "language_info": {
   "codemirror_mode": {
    "name": "ipython",
    "version": 3
   },
   "file_extension": ".py",
   "mimetype": "text/x-python",
   "name": "python",
   "nbconvert_exporter": "python",
   "pygments_lexer": "ipython3",
   "version": "3.10.7"
  }
 },
 "nbformat": 4,
 "nbformat_minor": 2
}
