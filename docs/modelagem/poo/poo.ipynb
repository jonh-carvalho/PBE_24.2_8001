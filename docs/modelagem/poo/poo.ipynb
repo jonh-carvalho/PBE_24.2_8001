{
 "cells": [
  {
   "cell_type": "markdown",
   "metadata": {},
   "source": [
    "### O que é programação orientada a objetos em Python?\n",
    "\n",
    "A programação orientada a objetos é um paradigma de programação que fornece um meio de estruturar programas para que propriedades e comportamentos sejam agrupados em objetos individuais .\n",
    "\n",
    "Por exemplo, um objeto pode representar uma pessoa com propriedades como nome, idade e endereço e comportamentos como andar, falar, respirar e correr. Ou pode representar um e-mail com propriedades como lista de destinatários, assunto e corpo e comportamentos como adicionar anexos e enviar.\n",
    "\n",
    "Dito de outra forma, a programação orientada a objetos é uma abordagem para modelar coisas concretas do mundo real, como carros, bem como relações entre coisas, como empresas e funcionários ou estudantes e professores. A OOP modela entidades do mundo real como objetos de software que possuem alguns dados associados a eles e podem realizar determinadas operações.\n",
    "\n",
    "A principal conclusão é que os objetos estão no centro da programação orientada a objetos em Python. Em outros paradigmas de programação, os objetos representam apenas os dados. Na OOP, eles informam adicionalmente a estrutura geral do programa."
   ]
  },
  {
   "cell_type": "markdown",
   "metadata": {},
   "source": [
    "### Como você define uma classe em Python?\n",
    "\n",
    "Em Python, você define uma classe usando a palavra-chave class seguida por um nome e dois pontos. Depois você usa .__init__() para declarar quais atributos cada instância da classe deve ter:"
   ]
  },
  {
   "cell_type": "code",
   "execution_count": 2,
   "metadata": {},
   "outputs": [],
   "source": [
    "class Employee:\n",
    "    def __init__(self, name, age):\n",
    "        self.name =  name\n",
    "        self.age = age"
   ]
  },
  {
   "cell_type": "code",
   "execution_count": 3,
   "metadata": {},
   "outputs": [],
   "source": [
    "emp = Employee('teste', 32)"
   ]
  },
  {
   "cell_type": "code",
   "execution_count": 4,
   "metadata": {},
   "outputs": [
    {
     "data": {
      "text/plain": [
       "<__main__.Employee at 0x20777ba3fe0>"
      ]
     },
     "execution_count": 4,
     "metadata": {},
     "output_type": "execute_result"
    }
   ],
   "source": [
    "emp"
   ]
  },
  {
   "cell_type": "code",
   "execution_count": 7,
   "metadata": {},
   "outputs": [
    {
     "data": {
      "text/plain": [
       "32"
      ]
     },
     "execution_count": 7,
     "metadata": {},
     "output_type": "execute_result"
    }
   ],
   "source": [
    "emp.name\n",
    "emp.age"
   ]
  },
  {
   "cell_type": "markdown",
   "metadata": {},
   "source": [
    "### Estruturas de dados primitivas\n",
    "Mas o que tudo isso significa? E por que você precisa de aulas em primeiro lugar? Dê um passo atrás e considere o uso de estruturas de dados primitivas integradas como alternativa.\n",
    "\n",
    "Estruturas de dados primitivas — como números , strings e listas — são projetadas para representar informações simples, como o custo de uma maçã, o nome de um poema ou suas cores favoritas, respectivamente. E se você quiser representar algo mais complexo?\n",
    "\n",
    "Por exemplo, você pode querer rastrear funcionários de uma organização. Você precisa armazenar algumas informações básicas sobre cada funcionário, como nome, idade, cargo e ano em que começou a trabalhar.\n",
    "\n",
    "Uma maneira de fazer isso é representar cada funcionário como uma lista :"
   ]
  },
  {
   "cell_type": "code",
   "execution_count": 2,
   "metadata": {},
   "outputs": [],
   "source": [
    "kirk = [\"James Kirk\", 34, \"Captain\", 2265]\n",
    "spock = [\"Spock\", 35, \"Science Officer\", 2254]\n",
    "mccoy = [\"Leonard McCoy\", \"Chief Medical Officer\", 2266]"
   ]
  },
  {
   "cell_type": "markdown",
   "metadata": {},
   "source": [
    "Existem vários problemas com essa abordagem.\n",
    "\n",
    "Primeiro, pode dificultar o gerenciamento de arquivos de código maiores. Se você fizer referência kirk[0], a várias linhas de onde declarou a kirklista, você lembrará que o elemento com índice 0 é o nome do funcionário?\n",
    "\n",
    "Em segundo lugar, pode introduzir erros se os funcionários não tiverem o mesmo número de elementos nas respectivas listas. Na mccoylista acima, a idade está faltando, então mccoy[1]retornará \"Chief Medical Officer\"em vez da idade do Dr. McCoy .\n",
    "\n",
    "Uma ótima maneira de tornar esse tipo de código mais gerenciável e de fácil manutenção é usar classes ."
   ]
  },
  {
   "cell_type": "markdown",
   "metadata": {},
   "source": [
    "\n",
    "### Classes vs Instâncias\n",
    "\n",
    "As classes permitem criar estruturas de dados definidas pelo usuário. As classes definem funções chamadas métodos, que identificam os comportamentos e ações que um objeto criado a partir da classe pode realizar com seus dados.\n",
    "\n",
    "Neste roteiro, você criará uma classe Dog que armazena algumas informações sobre as características e comportamentos que um cão individual pode ter.\n",
    "\n",
    "Uma classe é um modelo de como definir algo. Na verdade, não contém nenhum dado. A classe Dog especifica que um nome e uma idade são necessários para definir um cachorro, mas não contém o nome ou a idade de nenhum cachorro específico.\n",
    "\n",
    "Embora a classe seja o modelo, uma instância é um objeto construído a partir de uma classe e contém dados reais. Uma instância da classe Dog não é mais um projeto. É um cachorro de verdade com um nome, como Miles, que tem quatro anos.\n",
    "\n",
    "Dito de outra forma, uma classe é como um formulário ou questionário. Uma instância é como um formulário que você preencheu com informações. Assim como muitas pessoas podem preencher o mesmo formulário com suas próprias informações exclusivas, você pode criar muitas instâncias a partir de uma única classe.\n",
    "\n",
    "#### Definição de classe\n",
    "\n",
    "Você inicia todas as definições de classe com a palavra-chave class e, em seguida, adiciona o nome da classe e dois pontos. O Python considerará qualquer código recuado abaixo da definição da classe como parte do corpo da classe.\n",
    "\n",
    "Aqui está um exemplo de classe Dog:"
   ]
  },
  {
   "cell_type": "code",
   "execution_count": 8,
   "metadata": {},
   "outputs": [],
   "source": [
    "# dog.py\n",
    "\n",
    "class Dog:\n",
    "    pass"
   ]
  },
  {
   "cell_type": "markdown",
   "metadata": {},
   "source": [
    "O corpo da classe Dog consiste em uma única instrução: a palavra-chave pass. Os programadores Python costumam usar o pass como um espaço reservado para indicar para onde o código irá eventualmente. Ele permite que você execute este código sem que o Python gere um erro.\n",
    "\n",
    "Nota: Os nomes das classes Python são escritos em notação CapitalizedWords por convenção. Por exemplo, uma classe para uma raça específica de cachorro, como o Jack Russell Terrier, seria escrita como JackRussellTerrier.\n",
    "\n",
    "A classe Dog não é muito interessante no momento, então você vai enfeitá-la um pouco definindo algumas propriedades que todos Dogs objetos deveriam ter. Existem várias propriedades que você pode escolher, incluindo nome, idade, cor da pelagem e raça. Para manter o escopo do exemplo pequeno, você usará apenas nome e idade.\n",
    "\n",
    "Você define as propriedades que todos os objetos Dog devem ter em um método chamado .__init__(). Cada vez que você cria um novo objeto Dog, define o estado inicial do objeto .__init__() atribuindo os valores das propriedades do objeto. Ou seja, inicializa cada nova instância da classe. .__init__()\n",
    "\n",
    "Você pode fornecer .__init__() qualquer número de parâmetros, mas o primeiro parâmetro sempre será uma variável chamada self. Quando você cria uma nova instância de classe, o Python passa automaticamente a instância para o parâmetro self no .__init__() para que o Python possa definir os novos atributos no objeto.\n",
    "\n",
    "Atualize a classe Dog com um método .__init__() que cria .name e .age:"
   ]
  },
  {
   "cell_type": "code",
   "execution_count": 9,
   "metadata": {},
   "outputs": [],
   "source": [
    "# dog.py\n",
    "class Dog:\n",
    "    def __init__(self, name, age):\n",
    "        self.name = name\n",
    "        self.age = age"
   ]
  },
  {
   "cell_type": "markdown",
   "metadata": {},
   "source": [
    "Certifique-se de recuar a assinatura .__init__() do método em quatro espaços e o corpo do método em oito espaços. Este recuo é de vital importância. Diz ao Python que o método .__init__() pertence à classe Dog.\n",
    "\n",
    "No corpo de .__init__(), existem duas instruções usando a variável self:\n",
    "\n",
    "    self.name = name - cria um atributo chamado name e atribui o valor do parâmetro name a ele.\n",
    "    self.age = age - cria um atributo chamado age e atribui o valor do parâmetro age a ele.\n",
    "\n",
    "Os atributos criados em .__init__() são chamados de atributos de instância. O valor de um atributo de instância é específico para uma instância específica da classe. Todos os objetos Dog têm um nome e uma idade, mas os valores dos atributos name e age variam dependendo da instância Dog.\n",
    "\n",
    "Por outro lado, atributos de classe são atributos que possuem o mesmo valor para todas as instâncias de classe. Você pode definir um atributo de classe atribuindo um valor a um nome de variável fora de .__init__().\n",
    "\n",
    "Por exemplo, a classe Dog a seguir possui um atributo de classe chamado species com o valor \"Canis familiaris\":"
   ]
  },
  {
   "cell_type": "code",
   "execution_count": 10,
   "metadata": {},
   "outputs": [],
   "source": [
    "# dog.py\n",
    "\n",
    "class Dog:\n",
    "    species = \"Canis familiaris\"\n",
    "\n",
    "    def __init__(self, name, age):\n",
    "        self.name = name\n",
    "        self.age = age"
   ]
  },
  {
   "cell_type": "markdown",
   "metadata": {},
   "source": [
    "Você define os atributos da classe diretamente abaixo da primeira linha do nome da classe e os recua com quatro espaços. Você sempre precisa atribuir a eles um valor inicial. Quando você cria uma instância da classe, o Python cria e atribui automaticamente atributos de classe aos seus valores iniciais.\n",
    "\n",
    "Use atributos de classe para definir propriedades que devem ter o mesmo valor para cada instância de classe. Use atributos de instância para propriedades que variam de uma instância para outra.\n",
    "\n",
    "Agora que você tem Dogaula, é hora de criar alguns cachorros!"
   ]
  },
  {
   "cell_type": "markdown",
   "metadata": {},
   "source": [
    "### Como você instancia uma classe em Python?\n",
    "\n",
    "Criar um novo objeto a partir de uma classe é chamado de instanciar uma classe. Você pode criar um novo objeto digitando o nome da classe, seguido de abertura e fechamento de parênteses:"
   ]
  },
  {
   "cell_type": "code",
   "execution_count": 12,
   "metadata": {},
   "outputs": [
    {
     "data": {
      "text/plain": [
       "<__main__.Dog at 0x2077a2c54f0>"
      ]
     },
     "execution_count": 12,
     "metadata": {},
     "output_type": "execute_result"
    }
   ],
   "source": [
    "class Dog:\n",
    "    pass\n",
    "\n",
    "Dog() # Execute"
   ]
  },
  {
   "cell_type": "markdown",
   "metadata": {},
   "source": [
    "Primeiro você cria uma nova classe Dog sem atributos ou métodos e, em seguida, instancia a classe Dog para criar um objeto Dog.\n",
    "\n",
    "Na saída acima, você pode ver que agora tem um novo objeto Dog em 0x106702d30. Essa sequência engraçada de letras e números é um endereço de memória que indica onde o Python armazena o objeto Dog na memória do seu computador. Observe que o endereço na sua tela será diferente.\n",
    "\n",
    "Agora instancie a classe Dog uma segunda vez para criar outro objeto Dog:"
   ]
  },
  {
   "cell_type": "code",
   "execution_count": 13,
   "metadata": {},
   "outputs": [
    {
     "data": {
      "text/plain": [
       "<__main__.Dog at 0x2077a23ec00>"
      ]
     },
     "execution_count": 13,
     "metadata": {},
     "output_type": "execute_result"
    }
   ],
   "source": [
    "Dog() #execute\n"
   ]
  },
  {
   "cell_type": "markdown",
   "metadata": {},
   "source": [
    "A nova instância Dog está localizada em um endereço de memória diferente. Isso ocorre porque é uma instância totalmente nova e completamente exclusiva do primeiro Dogobjeto que você criou.\n",
    "\n",
    "Para ver isso de outra maneira, digite o seguinte:"
   ]
  },
  {
   "cell_type": "code",
   "execution_count": 15,
   "metadata": {},
   "outputs": [
    {
     "name": "stdout",
     "output_type": "stream",
     "text": [
      "<__main__.Dog object at 0x000002077A2C8DA0>\n",
      "<__main__.Dog object at 0x0000020779BF1820>\n"
     ]
    },
    {
     "data": {
      "text/plain": [
       "False"
      ]
     },
     "execution_count": 15,
     "metadata": {},
     "output_type": "execute_result"
    }
   ],
   "source": [
    "a = Dog()\n",
    "print(a)\n",
    "b = Dog()\n",
    "print(b)\n",
    "a == b # Execute\n"
   ]
  },
  {
   "cell_type": "markdown",
   "metadata": {},
   "source": [
    "Neste código, você cria dois novos objetos Dog e os atribui às variáveis a ​​e b. Quando você compara a e b com o operador ==, o resultado é False. Embora a e b sejam instâncias da classe Dog, eles representam dois objetos distintos na memória."
   ]
  },
  {
   "cell_type": "markdown",
   "metadata": {},
   "source": [
    "### Atributos de classe e instância\n",
    "\n",
    "Agora crie uma nova classe Dog com um atributo de classe chamado .species e dois atributos de instância chamados .name e .age:"
   ]
  },
  {
   "cell_type": "code",
   "execution_count": 16,
   "metadata": {},
   "outputs": [],
   "source": [
    "class Dog:\n",
    "    species = \"Canis familiaris\"\n",
    "    def __init__(self, name, age):\n",
    "        self.name = name\n",
    "        self.age = age"
   ]
  },
  {
   "cell_type": "markdown",
   "metadata": {},
   "source": [
    "Para instanciar esta Classe Dog, você precisa fornecer valores para name e age. Caso contrário, o Python gera um TypeError:"
   ]
  },
  {
   "cell_type": "code",
   "execution_count": 22,
   "metadata": {},
   "outputs": [
    {
     "data": {
      "text/plain": [
       "'rex'"
      ]
     },
     "execution_count": 22,
     "metadata": {},
     "output_type": "execute_result"
    }
   ],
   "source": [
    "rex = Dog('rex', 5) # Execute\n",
    "\n",
    "rex.name"
   ]
  },
  {
   "cell_type": "markdown",
   "metadata": {},
   "source": [
    "Para passar argumentos para os parâmetros name e age, coloque os valores entre parênteses após o nome da classe:"
   ]
  },
  {
   "cell_type": "code",
   "execution_count": 25,
   "metadata": {},
   "outputs": [
    {
     "data": {
      "text/plain": [
       "__main__.Dog"
      ]
     },
     "execution_count": 25,
     "metadata": {},
     "output_type": "execute_result"
    }
   ],
   "source": [
    "miles = Dog(\"Miles\", 4)\n",
    "buddy = Dog(\"Buddy\", 9)\n",
    "type(buddy)"
   ]
  },
  {
   "cell_type": "markdown",
   "metadata": {},
   "source": [
    "Isso cria duas novas instâncias Dog – uma para um cachorro de quatro anos chamado Miles e outra para um cachorro de nove anos chamado Buddy.\n",
    "\n",
    "O método .__init__() da classe Dog tem três parâmetros, então por que você está passando apenas dois argumentos para ele no exemplo?\n",
    "\n",
    "Quando você instancia a classe Dog, o Python cria uma nova instância de Dog e a passa para o primeiro parâmetro de .__init__(). Isso essencialmente remove o parâmetro self, então você só precisa se preocupar com os parâmetros name e age.\n",
    "\n",
    "Nota: Nos bastidores, o Python cria e inicializa um novo objeto quando você usa esta sintaxe. \n",
    "\n",
    "Depois de criar as instâncias Dog, você poderá acessar seus atributos de instância usando a notação de ponto:\n"
   ]
  },
  {
   "cell_type": "code",
   "execution_count": 26,
   "metadata": {},
   "outputs": [
    {
     "name": "stdout",
     "output_type": "stream",
     "text": [
      "Miles\n",
      "4\n",
      "Buddy\n",
      "9\n"
     ]
    }
   ],
   "source": [
    "print(miles.name)\n",
    "print(miles.age)\n",
    "\n",
    "print(buddy.name)\n",
    "print(buddy.age)"
   ]
  },
  {
   "cell_type": "markdown",
   "metadata": {},
   "source": [
    "Você pode acessar atributos de classe da mesma maneira:"
   ]
  },
  {
   "cell_type": "code",
   "execution_count": 27,
   "metadata": {},
   "outputs": [
    {
     "data": {
      "text/plain": [
       "'Canis familiaris'"
      ]
     },
     "execution_count": 27,
     "metadata": {},
     "output_type": "execute_result"
    }
   ],
   "source": [
    "buddy.species"
   ]
  },
  {
   "cell_type": "markdown",
   "metadata": {},
   "source": [
    "Uma das maiores vantagens de usar classes para organizar dados é que as instâncias têm a garantia de ter os atributos esperados. Todas as instâncias Dog possuem atributos .species, .name, e .age, portanto você pode usar esses atributos com confiança, sabendo que eles sempre retornarão um valor.\n",
    "\n",
    "Embora seja garantido que os atributos existam, seus valores podem mudar dinamicamente:"
   ]
  },
  {
   "cell_type": "code",
   "execution_count": 29,
   "metadata": {},
   "outputs": [
    {
     "name": "stdout",
     "output_type": "stream",
     "text": [
      "10\n",
      "Felis silvestris\n"
     ]
    }
   ],
   "source": [
    "buddy.age = 10\n",
    "print(buddy.age)\n",
    "\n",
    "miles.species = \"Felis silvestris\"\n",
    "print(miles.species)"
   ]
  },
  {
   "cell_type": "markdown",
   "metadata": {},
   "source": [
    "Neste exemplo, você altera o atributo .age do objeto buddy para 10. Então você altera o atributo .species do objeto miles para \"Felis silvestris\", que é uma espécie de gato. Isso faz de Miles um cachorro muito estranho, mas é um Python válido!\n",
    "\n",
    "A principal conclusão aqui é que os objetos personalizados são mutáveis ​​por padrão. Um objeto é mutável se você puder alterá-lo dinamicamente. Por exemplo, listas e dicionários são mutáveis, mas strings e tuplas são imutáveis ."
   ]
  },
  {
   "cell_type": "markdown",
   "metadata": {},
   "source": [
    "### Métodos de instância\n",
    "\n",
    "Métodos de instância são funções que você define dentro de uma classe e só podem chamar uma instância dessa classe. Assim como .__init__(), um método de instância sempre leva self como primeiro parâmetro."
   ]
  },
  {
   "cell_type": "code",
   "execution_count": 30,
   "metadata": {},
   "outputs": [],
   "source": [
    "# dog.py\n",
    "\n",
    "class Dog:\n",
    "    species = \"Canis familiaris\"\n",
    "\n",
    "    def __init__(self, name, age):\n",
    "        self.name = name\n",
    "        self.age = age\n",
    "\n",
    "    # Instance method\n",
    "    def description(self):\n",
    "        return f\"{self.name} is {self.age} years old\"\n",
    "\n",
    "    # Another instance method\n",
    "    def speak(self, sound):\n",
    "        return f\"{self.name} says {sound}\""
   ]
  },
  {
   "cell_type": "code",
   "execution_count": null,
   "metadata": {},
   "outputs": [],
   "source": []
  },
  {
   "cell_type": "markdown",
   "metadata": {},
   "source": [
    "Esta classe Dog possui dois métodos de instância:\n",
    "\n",
    "    .description() - retorna uma string exibindo o nome e a idade do cachorro.\n",
    "    .speak() - tem um parâmetro chamado sounde retorna uma string contendo o nome do cachorro e o som que o cachorro faz.\n",
    "\n",
    "Salve a classe Dog modificada em um arquivo chamado dog.py e pressione F5 para executar o programa. Em seguida, abra a janela interativa e digite o seguinte para ver seus métodos de instância em ação:"
   ]
  },
  {
   "cell_type": "code",
   "execution_count": 34,
   "metadata": {},
   "outputs": [],
   "source": [
    "miles = Dog(\"Miles\", 4)"
   ]
  },
  {
   "cell_type": "code",
   "execution_count": 35,
   "metadata": {},
   "outputs": [
    {
     "data": {
      "text/plain": [
       "'Miles is 4 years old'"
      ]
     },
     "execution_count": 35,
     "metadata": {},
     "output_type": "execute_result"
    }
   ],
   "source": [
    "miles.description()"
   ]
  },
  {
   "cell_type": "code",
   "execution_count": 36,
   "metadata": {},
   "outputs": [
    {
     "data": {
      "text/plain": [
       "'Miles says Woof Woof'"
      ]
     },
     "execution_count": 36,
     "metadata": {},
     "output_type": "execute_result"
    }
   ],
   "source": [
    "miles.speak(\"Woof Woof\")"
   ]
  },
  {
   "cell_type": "code",
   "execution_count": 37,
   "metadata": {},
   "outputs": [
    {
     "data": {
      "text/plain": [
       "'Miles says Bow Wow'"
      ]
     },
     "execution_count": 37,
     "metadata": {},
     "output_type": "execute_result"
    }
   ],
   "source": [
    "miles.speak(\"Bow Wow\")"
   ]
  },
  {
   "cell_type": "markdown",
   "metadata": {},
   "source": [
    "Na classe Dog acima, .description() retorna uma string contendo informações sobre a instância Dog miles. Ao escrever suas próprias classes, é uma boa ideia ter um método que retorne uma string contendo informações úteis sobre uma instância da classe. No entanto, .description() não é a maneira mais pitônica de fazer isso.\n",
    "\n",
    "Ao criar um objeto list, você pode usar print() para exibir uma string semelhante à lista:"
   ]
  },
  {
   "cell_type": "code",
   "execution_count": 38,
   "metadata": {},
   "outputs": [
    {
     "name": "stdout",
     "output_type": "stream",
     "text": [
      "['Miles', 'Buddy', 'Jack']\n"
     ]
    }
   ],
   "source": [
    "names = [\"Miles\", \"Buddy\", \"Jack\"]\n",
    "print(names)"
   ]
  },
  {
   "cell_type": "markdown",
   "metadata": {},
   "source": [
    "Vá em frente e imprima o objeto miles para ver qual saída você obtém:"
   ]
  },
  {
   "cell_type": "code",
   "execution_count": 39,
   "metadata": {},
   "outputs": [
    {
     "name": "stdout",
     "output_type": "stream",
     "text": [
      "<__main__.Dog object at 0x000002077A633740>\n"
     ]
    }
   ],
   "source": [
    "print(miles)"
   ]
  },
  {
   "cell_type": "markdown",
   "metadata": {},
   "source": [
    "Ao imprimir miles, você recebe uma mensagem de aparência enigmática informando que miles é um objeto Dog no endereço de memória 0x00aeff70. Esta mensagem não é muito útil. Você pode alterar o que é impresso definindo um método de instância especial chamado .__str__().\n",
    "\n",
    "Na janela do editor, altere o nome do método .description() da classe Dog  para .__str__():"
   ]
  },
  {
   "cell_type": "code",
   "execution_count": 41,
   "metadata": {},
   "outputs": [],
   "source": [
    "# dog.py\n",
    "\n",
    "class Dog:\n",
    "    species = \"Canis familiaris\"\n",
    "\n",
    "    def __init__(self, name, age):\n",
    "        self.name = name\n",
    "        self.age = age\n",
    "\n",
    "    # Instance method\n",
    "    def description(self):\n",
    "        return f\"{self.name} is {self.age} years old\"\n",
    "\n",
    "    # Another instance method\n",
    "    def speak(self, sound):\n",
    "        return f\"{self.name} says {sound}\"\n",
    "\n",
    "    def __str__(self):\n",
    "        return f\"{self.name} is {self.age} years old\""
   ]
  },
  {
   "cell_type": "markdown",
   "metadata": {},
   "source": [
    "Agora, ao imprimir miles, você obtém uma saída muito mais amigável:"
   ]
  },
  {
   "cell_type": "code",
   "execution_count": 42,
   "metadata": {},
   "outputs": [
    {
     "name": "stdout",
     "output_type": "stream",
     "text": [
      "Miles is 4 years old\n"
     ]
    }
   ],
   "source": [
    "miles = Dog(\"Miles\", 4)\n",
    "print(miles)"
   ]
  },
  {
   "cell_type": "markdown",
   "metadata": {},
   "source": [
    "Métodos como .__init__() e .__str__() são chamados de métodos mágicos porque começam e terminam com sublinhados duplos. Existem muitos métodos mágicos que você pode usar para personalizar classes em Python. Compreender os métodos mágicos é uma parte importante do domínio da programação orientada a objetos em Python, mas para sua primeira exploração do tópico, você se limitará a esses dois métodos mágicos.\n",
    "\n",
    "Nota: Confira Quando você deve usar .__repr__() vs .__str__() em Python? Para saber mais sobre .__str__() e seu primo .__repr__().\n",
    "\n",
    "Se quiser reforçar seu entendimento com um exercício prático, então você pode clicar no bloco abaixo e trabalhar na resolução do desafio:\n",
    "\n",
    "Quando terminar sua própria implementação do desafio, você poderá expandir o bloco abaixo para ver uma possível solução:\n",
    "\n",
    "Quando estiver pronto, você pode passar para a próxima seção. Lá, você verá como levar seu conhecimento um passo adiante e criar classes a partir de outras classes."
   ]
  },
  {
   "cell_type": "markdown",
   "metadata": {},
   "source": [
    "### Exercicio\n",
    "### Crie uma classe Car com dois atributos de instância:\n",
    "\n",
    "    .color, que armazena o nome da cor do carro como uma string\n",
    "    .mileage, que armazena o número de milhas do carro como um número inteiro\n",
    "\n",
    "Em seguida, crie dois objetos Car – um carro azul com trinta mil milhas e um carro vermelho com trinta mil milhas – e imprima suas cores e quilometragem. Sua saída deve ficar assim:\n",
    "\n",
    "> The blue car has 20,000 miles\n",
    "\n",
    "> The red car has 30,000 miles\n",
    "\n",
    "Existem várias maneiras de resolver esse desafio. Para praticar efetivamente o que você aprendeu até agora, tente resolver a tarefa com as informações sobre classes em Python que você reuniu nesta seção.\n",
    "\n",
    "Primeiro, crie uma classe Car com atributos .color e .mileage de instância e um método .__str__() para formatar a exibição de objetos quando você os passa para print():"
   ]
  },
  {
   "cell_type": "code",
   "execution_count": 43,
   "metadata": {},
   "outputs": [],
   "source": [
    "class Car:\n",
    "    def __init__(self, color, mileage):\n",
    "        self.color = color\n",
    "        self.mileage = mileage\n",
    "    def __str__(self):\n",
    "        return f\"The {self.color} car has {self.mileage:,} miles\""
   ]
  },
  {
   "cell_type": "code",
   "execution_count": 46,
   "metadata": {},
   "outputs": [
    {
     "name": "stdout",
     "output_type": "stream",
     "text": [
      "The red car has 1,000 miles\n"
     ]
    }
   ],
   "source": [
    "ferrari = Car('red', 1000)\n",
    "print(ferrari)"
   ]
  },
  {
   "cell_type": "markdown",
   "metadata": {},
   "source": [
    "Os parâmetros color e mileage são atribuídos, o que cria os dois atributos de instância.\n",
    "\n",
    "mileage.__init__()\n",
    "self.color\n",
    "self.mileage\n",
    "\n",
    "O método .__str__() interpola ambos os atributos da instância em uma string f e usa o :, especificador de formato para imprimir a quilometragem agrupada por milhares e separada por vírgula.\n",
    "\n",
    "Agora você pode criar as duas instâncias Car: "
   ]
  },
  {
   "cell_type": "code",
   "execution_count": 47,
   "metadata": {},
   "outputs": [],
   "source": [
    "blue_car = Car(color=\"blue\", mileage=20_000)\n",
    "red_car = Car(color=\"red\", mileage=30_000)"
   ]
  },
  {
   "cell_type": "code",
   "execution_count": 49,
   "metadata": {},
   "outputs": [
    {
     "name": "stdout",
     "output_type": "stream",
     "text": [
      "The blue car has 20,000 miles\n"
     ]
    }
   ],
   "source": [
    "print(blue_car)"
   ]
  },
  {
   "cell_type": "markdown",
   "metadata": {},
   "source": [
    "Você cria a instância blue_car passando o valor \"blue\" para o parâmetro color e 20_000 para o parâmetro mileage. Da mesma forma, você cria red_car com os valores \"red\" e 30_000.\n",
    "\n",
    "Para imprimir a cor e a quilometragem de cada objeto Car, você pode fazer um loop sobre um objeto tuple que contém os dois objetos e imprimir cada objeto:\n",
    "\n",
    "    The blue car has 20,000 miles\n",
    "    The red car has 30,000 miles\n",
    "\n",
    "Como você definiu sua representação de string em .__str__(), imprimir os objetos fornece a saída de texto desejada."
   ]
  },
  {
   "cell_type": "code",
   "execution_count": 50,
   "metadata": {},
   "outputs": [
    {
     "name": "stdout",
     "output_type": "stream",
     "text": [
      "The blue car has 20,000 miles\n",
      "The red car has 30,000 miles\n"
     ]
    }
   ],
   "source": [
    "for car in (blue_car, red_car):\n",
    "    print(car)"
   ]
  },
  {
   "cell_type": "markdown",
   "metadata": {},
   "source": [
    "## Herança\n",
    "### Como você herda de outra classe em Python?\n",
    "\n",
    "Herança é o processo pelo qual uma classe assume os atributos e métodos de outra. As classes recém-formadas são chamadas de classes filhas , e as classes das quais você deriva classes filhas são chamadas de classes pai .\n",
    "\n",
    "Você herda de uma classe pai criando uma nova classe e colocando o nome da classe pai entre parênteses:"
   ]
  },
  {
   "cell_type": "code",
   "execution_count": 1,
   "metadata": {},
   "outputs": [],
   "source": [
    "# inheritance.py\n",
    "\n",
    "class Parent:\n",
    "    hair_color = \"brown\"\n",
    "\n",
    "class Child(Parent):\n",
    "    pass"
   ]
  },
  {
   "cell_type": "code",
   "execution_count": 2,
   "metadata": {},
   "outputs": [
    {
     "data": {
      "text/plain": [
       "'brown'"
      ]
     },
     "execution_count": 2,
     "metadata": {},
     "output_type": "execute_result"
    }
   ],
   "source": [
    "joe = Child()\n",
    "joe.hair_color"
   ]
  },
  {
   "cell_type": "markdown",
   "metadata": {},
   "source": [
    "Neste exemplo mínimo, a classe filha Child herda da classe pai Parent. Como as classes filhas assumem os atributos e métodos das classes pai, Child.hair_color também é \"brown\" sem que você defina isso explicitamente.\n",
    "\n",
    "As classes filhas podem substituir ou estender os atributos e métodos das classes pai. Em outras palavras, as classes filhas herdam todos os atributos e métodos dos pais, mas também podem especificar atributos e métodos que são exclusivos delas mesmas.\n",
    "\n",
    "Embora a analogia não seja perfeita, você pode pensar na herança de objetos como uma espécie de herança genética.\n",
    "\n",
    "Você pode ter herdado a cor do cabelo de seus pais. É um atributo com o qual você nasceu. Mas talvez você decida pintar seu cabelo de roxo. Supondo que seus pais não tenham cabelo roxo, você acabou de substituir o atributo de cor do cabelo que herdou de seus pais:"
   ]
  },
  {
   "cell_type": "code",
   "execution_count": 3,
   "metadata": {},
   "outputs": [],
   "source": [
    "# inheritance.py\n",
    "\n",
    "class Parent:\n",
    "    hair_color = \"brown\"\n",
    "\n",
    "class Child(Parent):\n",
    "    hair_color = \"purple\""
   ]
  },
  {
   "cell_type": "code",
   "execution_count": 4,
   "metadata": {},
   "outputs": [
    {
     "data": {
      "text/plain": [
       "'purple'"
      ]
     },
     "execution_count": 4,
     "metadata": {},
     "output_type": "execute_result"
    }
   ],
   "source": [
    "ann = Child()\n",
    "ann.hair_color"
   ]
  },
  {
   "cell_type": "markdown",
   "metadata": {},
   "source": [
    "Se você alterar o exemplo de código assim, Child.hair_color será \"purple\".\n",
    "\n",
    "Você também herda, de certa forma, a sua língua dos seus pais. Se seus pais falam inglês, você também falará inglês. Agora imagine que você decide aprender um segundo idioma, como o alemão. Nesse caso, você estendeu seus atributos porque adicionou um atributo que seus pais não possuem:"
   ]
  },
  {
   "cell_type": "code",
   "execution_count": 6,
   "metadata": {},
   "outputs": [],
   "source": [
    "# inheritance.py\n",
    "class Parent:\n",
    "    speaks = [\"English\"]\n",
    "\n",
    "class Child(Parent):\n",
    "    def __init__(self):\n",
    "        super().__init__()\n",
    "        self.speaks.append(\"German\")"
   ]
  },
  {
   "cell_type": "code",
   "execution_count": 7,
   "metadata": {},
   "outputs": [
    {
     "data": {
      "text/plain": [
       "['English', 'German']"
      ]
     },
     "execution_count": 7,
     "metadata": {},
     "output_type": "execute_result"
    }
   ],
   "source": [
    "mary = Child()\n",
    "mary.speaks"
   ]
  },
  {
   "cell_type": "markdown",
   "metadata": {},
   "source": [
    "Você aprenderá mais sobre como o código acima funciona nas seções abaixo. Mas antes de se aprofundar na herança em Python, você fará uma caminhada até um parque para cães para entender melhor por que pode querer usar herança em seu próprio código.\n",
    "Exemplo: Parque para Cachorros\n",
    "\n",
    "Finja por um momento que você está em um parque para cães. Existem muitos cães de raças diferentes no parque, todos engajados em vários comportamentos caninos.\n",
    "\n",
    "Suponha agora que você deseja modelar o parque para cães com classes Python. A classe Dog que você escreveu na seção anterior pode distinguir cães por nome e idade, mas não por raça.\n",
    "\n",
    "Você poderia modificar a classe Dog na janela do editor adicionando um atributo .breed:"
   ]
  },
  {
   "cell_type": "code",
   "execution_count": 9,
   "metadata": {},
   "outputs": [],
   "source": [
    "# dog.py\n",
    "\n",
    "class Dog:\n",
    "    species = \"Canis familiaris\"\n",
    "\n",
    "    def __init__(self, name, age, breed):\n",
    "        self.name = name\n",
    "        self.age = age\n",
    "        self.breed = breed\n",
    "\n",
    "    def __str__(self):\n",
    "        return f\"{self.name} is {self.age} years old\"\n",
    "\n",
    "    def speak(self, sound):\n",
    "        return f\"{self.name} says {sound}\""
   ]
  },
  {
   "cell_type": "markdown",
   "metadata": {},
   "source": [
    "Agora você pode modelar o parque para cães criando vários cães diferentes na janela interativa:"
   ]
  },
  {
   "cell_type": "code",
   "execution_count": 10,
   "metadata": {},
   "outputs": [],
   "source": [
    "miles = Dog(\"Miles\", 4, \"Jack Russell Terrier\")\n",
    "buddy = Dog(\"Buddy\", 9, \"Dachshund\")\n",
    "jack = Dog(\"Jack\", 3, \"Bulldog\")\n",
    "jim = Dog(\"Jim\", 5, \"Bulldog\")"
   ]
  },
  {
   "cell_type": "markdown",
   "metadata": {},
   "source": [
    "Cada raça de cachorro tem comportamentos ligeiramente diferentes. Por exemplo, os buldogues têm um latido baixo, mas os bassês têm um latido mais agudo.\n",
    "\n",
    "Usando apenas a classe Dog, você deve fornecer uma string para o argumento sound .speak() toda vez que você a chamar em uma instância Dog:"
   ]
  },
  {
   "cell_type": "code",
   "execution_count": 15,
   "metadata": {},
   "outputs": [
    {
     "data": {
      "text/plain": [
       "'Buddy says Yap'"
      ]
     },
     "execution_count": 15,
     "metadata": {},
     "output_type": "execute_result"
    }
   ],
   "source": [
    "buddy.speak(\"Yap\")"
   ]
  },
  {
   "cell_type": "code",
   "execution_count": 16,
   "metadata": {},
   "outputs": [
    {
     "data": {
      "text/plain": [
       "'Jim says Woof'"
      ]
     },
     "execution_count": 16,
     "metadata": {},
     "output_type": "execute_result"
    }
   ],
   "source": [
    "jim.speak(\"Woof\")"
   ]
  },
  {
   "cell_type": "code",
   "execution_count": 17,
   "metadata": {},
   "outputs": [
    {
     "data": {
      "text/plain": [
       "'Jack says Woof'"
      ]
     },
     "execution_count": 17,
     "metadata": {},
     "output_type": "execute_result"
    }
   ],
   "source": [
    "jack.speak(\"Woof\")"
   ]
  },
  {
   "cell_type": "markdown",
   "metadata": {},
   "source": [
    "Passar uma string para cada chamada .speak() é repetitivo e inconveniente. Além disso, o atributo .breed deve determinar a string que representa o som que cada instância Dog emite, mas aqui você deve passar manualmente a string correta .speak() sempre que chamá-la.\n",
    "\n",
    "Você pode simplificar a experiência de trabalhar com a class Dog criando uma turma filha para cada raça de cachorro. Isso permite estender a funcionalidade que cada classe filha herda, incluindo a especificação de um argumento padrão para .speak()."
   ]
  },
  {
   "cell_type": "markdown",
   "metadata": {},
   "source": [
    "#### Classes Pais vs Classes Filhos\n",
    "\n",
    "Nesta seção, você criará uma classe filha para cada uma das três raças mencionadas acima: Jack Russell terrier, dachshund e bulldog.\n",
    "\n",
    "Para referência, aqui está a definição completa da Dogclasse com a qual você está trabalhando atualmente:"
   ]
  },
  {
   "cell_type": "code",
   "execution_count": 11,
   "metadata": {},
   "outputs": [],
   "source": [
    "# dog.py\n",
    "\n",
    "class Dog:\n",
    "    species = \"Canis familiaris\"\n",
    "\n",
    "    def __init__(self, name, age):\n",
    "        self.name = name\n",
    "        self.age = age\n",
    "\n",
    "    def __str__(self):\n",
    "        return f\"{self.name} is {self.age} years old\"\n",
    "\n",
    "    def speak(self, sound):\n",
    "        return f\"{self.name} says {sound}\""
   ]
  },
  {
   "cell_type": "markdown",
   "metadata": {},
   "source": [
    "Depois de fazer o exemplo do parque para cães na seção anterior, você removeu .breed novamente. Agora você escreverá código para monitorar a raça de um cachorro usando classes filhas.\n",
    "\n",
    "Para criar uma classe filha, você cria uma nova classe com seu próprio nome e depois coloca o nome da classe pai entre parênteses. Adicione o seguinte ao arquivo dog.py para criar três novas classes filhas da classe Dog:"
   ]
  },
  {
   "cell_type": "code",
   "execution_count": 12,
   "metadata": {},
   "outputs": [],
   "source": [
    "# dog.py\n",
    "\n",
    "# ...\n",
    "class JackRussellTerrier(Dog):\n",
    "    pass\n",
    "\n",
    "class Dachshund(Dog):\n",
    "    pass\n",
    "\n",
    "class Bulldog(Dog):\n",
    "    pass"
   ]
  },
  {
   "cell_type": "markdown",
   "metadata": {},
   "source": [
    "Com as classes filhas definidas, agora você pode criar alguns cães de raças específicas na janela interativa:"
   ]
  },
  {
   "cell_type": "code",
   "execution_count": 14,
   "metadata": {},
   "outputs": [],
   "source": [
    "miles = JackRussellTerrier(\"Miles\", 4)\n",
    "buddy = Dachshund(\"Buddy\", 9)\n",
    "jack = Bulldog(\"Jack\", 3)\n",
    "jim = Bulldog(\"Jim\", 5)"
   ]
  },
  {
   "cell_type": "markdown",
   "metadata": {},
   "source": [
    "As instâncias das classes filhas herdam todos os atributos e métodos da classe pai:"
   ]
  },
  {
   "cell_type": "code",
   "execution_count": 15,
   "metadata": {},
   "outputs": [
    {
     "data": {
      "text/plain": [
       "'Canis familiaris'"
      ]
     },
     "execution_count": 15,
     "metadata": {},
     "output_type": "execute_result"
    }
   ],
   "source": [
    "miles.species"
   ]
  },
  {
   "cell_type": "code",
   "execution_count": 16,
   "metadata": {},
   "outputs": [
    {
     "data": {
      "text/plain": [
       "'Buddy'"
      ]
     },
     "execution_count": 16,
     "metadata": {},
     "output_type": "execute_result"
    }
   ],
   "source": [
    "buddy.name"
   ]
  },
  {
   "cell_type": "code",
   "execution_count": 17,
   "metadata": {},
   "outputs": [
    {
     "name": "stdout",
     "output_type": "stream",
     "text": [
      "Jack is 3 years old\n"
     ]
    }
   ],
   "source": [
    "print(jack)"
   ]
  },
  {
   "cell_type": "code",
   "execution_count": 18,
   "metadata": {},
   "outputs": [
    {
     "data": {
      "text/plain": [
       "'Jim says Woof'"
      ]
     },
     "execution_count": 18,
     "metadata": {},
     "output_type": "execute_result"
    }
   ],
   "source": [
    "jim.speak(\"Woof\")"
   ]
  },
  {
   "cell_type": "markdown",
   "metadata": {},
   "source": [
    "Para determinar a qual classe um determinado objeto pertence, você pode usar o built-in type():"
   ]
  },
  {
   "cell_type": "code",
   "execution_count": 19,
   "metadata": {},
   "outputs": [
    {
     "data": {
      "text/plain": [
       "__main__.JackRussellTerrier"
      ]
     },
     "execution_count": 19,
     "metadata": {},
     "output_type": "execute_result"
    }
   ],
   "source": [
    "type(miles)"
   ]
  },
  {
   "cell_type": "markdown",
   "metadata": {},
   "source": [
    "E se você quiser determinar se miles também é uma instância da classe Dog? Você pode fazer isso com o integrado isinstance():"
   ]
  },
  {
   "cell_type": "code",
   "execution_count": 20,
   "metadata": {},
   "outputs": [
    {
     "data": {
      "text/plain": [
       "True"
      ]
     },
     "execution_count": 20,
     "metadata": {},
     "output_type": "execute_result"
    }
   ],
   "source": [
    "isinstance(miles, Dog)"
   ]
  },
  {
   "cell_type": "markdown",
   "metadata": {},
   "source": [
    "Observe que isinstance() leva dois argumentos, um objeto e uma classe. No exemplo acima, isinstance() verifica se miles é uma instância da classe Dog e retorna True.\n",
    "\n",
    "Os objetos miles, buddy, jack e jim são todos instâncias dog.py, mas miles não é uma instância Bulldog e jack não é uma instância Dachshund:"
   ]
  },
  {
   "cell_type": "code",
   "execution_count": 21,
   "metadata": {},
   "outputs": [
    {
     "data": {
      "text/plain": [
       "False"
      ]
     },
     "execution_count": 21,
     "metadata": {},
     "output_type": "execute_result"
    }
   ],
   "source": [
    "isinstance(miles, Bulldog)"
   ]
  },
  {
   "cell_type": "code",
   "execution_count": 22,
   "metadata": {},
   "outputs": [
    {
     "data": {
      "text/plain": [
       "False"
      ]
     },
     "execution_count": 22,
     "metadata": {},
     "output_type": "execute_result"
    }
   ],
   "source": [
    "isinstance(jack, Dachshund)"
   ]
  },
  {
   "cell_type": "markdown",
   "metadata": {},
   "source": [
    "De forma mais geral, todos os objetos criados a partir de uma classe filha são instâncias da classe pai, embora possam não ser instâncias de outras classes filhas.\n",
    "\n",
    "Agora que você criou classes filhas para algumas raças diferentes de cães, você pode dar a cada raça seu próprio som."
   ]
  },
  {
   "cell_type": "markdown",
   "metadata": {},
   "source": [
    "Extensão de funcionalidade da classe pai\n",
    "\n",
    "Como diferentes raças de cães têm latidos ligeiramente diferentes, você deseja fornecer um valor padrão para o soundargumento de seus respectivos .speak()métodos. Para fazer isso, você precisa substituir .speak()a definição de classe de cada raça.\n",
    "\n",
    "Para substituir um método definido na classe pai, você define um método com o mesmo nome na classe filha. Aqui está o que parece para a classe JackRussellTerrier:"
   ]
  },
  {
   "cell_type": "code",
   "execution_count": 37,
   "metadata": {},
   "outputs": [],
   "source": [
    "# dog.py\n",
    "\n",
    "# ...\n",
    "\n",
    "# class JackRussellTerrier(Dog):\n",
    "#    def speak(self, sound=\"Arf\"):\n",
    "#        return f\"{self.name} says {sound}\"\n",
    "\n",
    "# ..."
   ]
  },
  {
   "cell_type": "code",
   "execution_count": 23,
   "metadata": {},
   "outputs": [],
   "source": [
    "# dog.py\n",
    "\n",
    "# ...\n",
    "class JackRussellTerrier(Dog):\n",
    "    def speak(self, sound=\"Arf\"):\n",
    "        return f\"{self.name} says {sound}\"\n",
    "\n",
    "class Dachshund(Dog):\n",
    "    pass\n",
    "\n",
    "class Bulldog(Dog):\n",
    "    pass"
   ]
  },
  {
   "cell_type": "markdown",
   "metadata": {},
   "source": [
    "Agora .speak() é definido na classe JackRussellTerrier com o argumento padrão para soundset to \"Arf\".\n",
    "\n",
    "Atualize dog.py com a nova classe JackRussellTerrier. Agora você pode chamar .speak() de uma instância JackRussellTerrier sem passar um argumento para sound:"
   ]
  },
  {
   "cell_type": "code",
   "execution_count": 24,
   "metadata": {},
   "outputs": [
    {
     "data": {
      "text/plain": [
       "'Miles says Arf'"
      ]
     },
     "execution_count": 24,
     "metadata": {},
     "output_type": "execute_result"
    }
   ],
   "source": [
    "miles = JackRussellTerrier(\"Miles\", 4)\n",
    "miles.speak()"
   ]
  },
  {
   "cell_type": "markdown",
   "metadata": {},
   "source": [
    "Às vezes, os cães fazem barulhos diferentes, então, se Miles ficar com raiva e rosnar, você ainda poderá ligar .speak() com um som diferente:"
   ]
  },
  {
   "cell_type": "code",
   "execution_count": 25,
   "metadata": {},
   "outputs": [
    {
     "data": {
      "text/plain": [
       "'Miles says Grrr'"
      ]
     },
     "execution_count": 25,
     "metadata": {},
     "output_type": "execute_result"
    }
   ],
   "source": [
    "miles.speak(\"Grrr\")"
   ]
  },
  {
   "cell_type": "markdown",
   "metadata": {},
   "source": [
    "Uma coisa a ter em mente sobre a herança de classe é que as alterações na classe pai se propagam automaticamente para as classes filhas. Isso ocorre desde que o atributo ou método que está sendo alterado não seja substituído na classe filha.\n",
    "\n",
    "Por exemplo, na janela do editor, altere a string retornada por .speak() na lasse Dog: "
   ]
  },
  {
   "cell_type": "code",
   "execution_count": 26,
   "metadata": {},
   "outputs": [],
   "source": [
    "# dog.py\n",
    "\n",
    "class Dog:\n",
    "    # ...\n",
    "\n",
    "    def speak(self, sound):\n",
    "        return f\"{self.name} barks: {sound}\"\n",
    "\n",
    "# ..."
   ]
  },
  {
   "cell_type": "markdown",
   "metadata": {},
   "source": [
    "Agora, quando você cria uma nova instância Bulldog chamada jim, jim.speak() retorna a nova string:"
   ]
  },
  {
   "cell_type": "code",
   "execution_count": 27,
   "metadata": {},
   "outputs": [
    {
     "data": {
      "text/plain": [
       "'Jim says Woof'"
      ]
     },
     "execution_count": 27,
     "metadata": {},
     "output_type": "execute_result"
    }
   ],
   "source": [
    "jim = Bulldog(\"Jim\", 5)\n",
    "jim.speak(\"Woof\")"
   ]
  },
  {
   "cell_type": "markdown",
   "metadata": {},
   "source": [
    "Às vezes faz sentido substituir completamente um método de uma classe pai. Mas neste caso, você não quer que a classe JackRussellTerrier perca quaisquer alterações que você possa fazer na formatação string da Dog.speak() de saída.\n",
    "\n",
    "Para fazer isso, você ainda precisa definir um método .speak() na classe filha JackRussellTerrier. Mas em vez de definir explicitamente a string de saída, você precisa chamar a classe Dog .speak() de dentro da classe filha .speak() usando os mesmos argumentos que você passou para JackRussellTerrier.speak().\n",
    "\n",
    "Você pode acessar a classe pai de dentro de um método de uma classe filha usando super():"
   ]
  },
  {
   "cell_type": "code",
   "execution_count": 28,
   "metadata": {},
   "outputs": [],
   "source": [
    "# dog.py\n",
    "\n",
    "# ...\n",
    "\n",
    "class JackRussellTerrier(Dog):\n",
    "    def speak(self, sound=\"Arf\"):\n",
    "        return super().speak(sound)\n",
    "\n",
    "# ..."
   ]
  },
  {
   "cell_type": "markdown",
   "metadata": {},
   "source": [
    "Quando você chama super().speak(sound) de dentro de JackRussellTerrier, o Python procura um método Dog.speak() na classe pai, e o chama com a variável sound.\n",
    "\n",
    "Atualize dog.py com a nova classe JackRussellTerrier."
   ]
  },
  {
   "cell_type": "code",
   "execution_count": 29,
   "metadata": {},
   "outputs": [
    {
     "ename": "TypeError",
     "evalue": "JackRussellTerrier() takes no arguments",
     "output_type": "error",
     "traceback": [
      "\u001b[1;31m---------------------------------------------------------------------------\u001b[0m",
      "\u001b[1;31mTypeError\u001b[0m                                 Traceback (most recent call last)",
      "Cell \u001b[1;32mIn[29], line 1\u001b[0m\n\u001b[1;32m----> 1\u001b[0m miles \u001b[38;5;241m=\u001b[39m \u001b[43mJackRussellTerrier\u001b[49m\u001b[43m(\u001b[49m\u001b[38;5;124;43m\"\u001b[39;49m\u001b[38;5;124;43mMiles\u001b[39;49m\u001b[38;5;124;43m\"\u001b[39;49m\u001b[43m,\u001b[49m\u001b[43m \u001b[49m\u001b[38;5;241;43m4\u001b[39;49m\u001b[43m)\u001b[49m\n\u001b[0;32m      2\u001b[0m miles\u001b[38;5;241m.\u001b[39mspeak()\n",
      "\u001b[1;31mTypeError\u001b[0m: JackRussellTerrier() takes no arguments"
     ]
    }
   ],
   "source": [
    "miles = JackRussellTerrier(\"Miles\", 4)\n",
    "miles.speak()"
   ]
  },
  {
   "cell_type": "markdown",
   "metadata": {},
   "source": [
    "Agora, ao chamar miles.speak(), você verá a saída refletindo a nova formatação da classe Dog."
   ]
  },
  {
   "cell_type": "markdown",
   "metadata": {},
   "source": [
    "\n",
    "\n",
    "Nota: Nos exemplos acima, a hierarquia de classes é muito direta. A classe JackRussellTerrier tem uma única classe pai, Dog. Em exemplos do mundo real, a hierarquia de classes pode ficar bastante complicada.\n",
    "\n",
    "A função super() faz muito mais do que apenas pesquisar um método ou atributo na classe pai. Ele percorre toda a hierarquia de classes em busca de um método ou atributo correspondente. Se você não tomar cuidado, super() pode ter resultados surpreendentes.\n"
   ]
  },
  {
   "cell_type": "markdown",
   "metadata": {},
   "source": [
    "### Exercícios\n",
    "\n",
    "#### Comece com o seguinte código para sua classe Dog pai:\n",
    "\n",
    "Crie uma classe GoldenRetriever que herda da classe Dog. Forneça o argumento sound de GoldenRetriever.speak() um valor padrão de \"Bark\"."
   ]
  },
  {
   "cell_type": "code",
   "execution_count": 30,
   "metadata": {},
   "outputs": [],
   "source": [
    "# dog.py\n",
    "class Dog:\n",
    "    species = \"Canis familiaris\"\n",
    "\n",
    "    def __init__(self, name, age):\n",
    "        self.name = name\n",
    "        self.age = age\n",
    "\n",
    "    def __str__(self):\n",
    "        return f\"{self.name} is {self.age} years old\"\n",
    "\n",
    "    def speak(self, sound):\n",
    "        return f\"{self.name} says {sound}\""
   ]
  },
  {
   "cell_type": "code",
   "execution_count": 31,
   "metadata": {},
   "outputs": [],
   "source": [
    "# Crie uma classe chamada GoldenRetriever que herde da classe Dog e substitua o método .speak():\n",
    "# dog.py\n",
    "# ...\n",
    "class GoldenRetriever(Dog):\n",
    "    def speak(self, sound=\"Bark\"):\n",
    "        return super().speak(sound)"
   ]
  },
  {
   "cell_type": "code",
   "execution_count": 34,
   "metadata": {},
   "outputs": [
    {
     "data": {
      "text/plain": [
       "'amarok says Bark'"
      ]
     },
     "execution_count": 34,
     "metadata": {},
     "output_type": "execute_result"
    }
   ],
   "source": [
    "amarok = GoldenRetriever('amarok', 3)\n",
    "amarok.speak()"
   ]
  },
  {
   "cell_type": "markdown",
   "metadata": {},
   "source": [
    "Você fornece \"Bark\" como valor padrão o parâmetro sound em GoldenRetriever.speak().\n",
    "Então você usa super()para chamar o método .speak() da classe pai com o mesmo argumento passado sound como o método GoldenRetriever da classe ..speak()"
   ]
  },
  {
   "cell_type": "markdown",
   "metadata": {},
   "source": [
    "Bom trabalho! Nesta seção, você aprendeu como substituir e estender métodos de uma classe pai e trabalhou em um pequeno exemplo prático para consolidar suas novas habilidades."
   ]
  }
 ],
 "metadata": {
  "kernelspec": {
   "display_name": ".venv",
   "language": "python",
   "name": "python3"
  },
  "language_info": {
   "codemirror_mode": {
    "name": "ipython",
    "version": 3
   },
   "file_extension": ".py",
   "mimetype": "text/x-python",
   "name": "python",
   "nbconvert_exporter": "python",
   "pygments_lexer": "ipython3",
   "version": "3.12.7"
  }
 },
 "nbformat": 4,
 "nbformat_minor": 2
}
